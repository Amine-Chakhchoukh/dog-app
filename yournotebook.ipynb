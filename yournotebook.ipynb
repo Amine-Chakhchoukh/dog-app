{
  "nbformat": 4,
  "nbformat_minor": 0,
  "metadata": {
    "colab": {
      "name": "yournotebook.ipynb",
      "provenance": []
    },
    "kernelspec": {
      "name": "python3",
      "display_name": "Python 3"
    },
    "language_info": {
      "name": "python"
    }
  },
  "cells": [
    {
      "cell_type": "markdown",
      "source": [
        "Yo! This is my website"
      ],
      "metadata": {
        "id": "7AF_KN8J7RRk"
      }
    }
  ]
}