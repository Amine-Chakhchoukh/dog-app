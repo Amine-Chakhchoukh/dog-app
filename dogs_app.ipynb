{
  "nbformat": 4,
  "nbformat_minor": 0,
  "metadata": {
    "colab": {
      "name": "dogs_app",
      "provenance": []
    },
    "kernelspec": {
      "name": "python3",
      "display_name": "Python 3"
    },
    "language_info": {
      "name": "python"
    },
    "widgets": {
      "application/vnd.jupyter.widget-state+json": {
        "d0f61456cbc4413d87c8ef6ccadf376e": {
          "model_module": "@jupyter-widgets/controls",
          "model_name": "VBoxModel",
          "model_module_version": "1.5.0",
          "state": {
            "_view_name": "VBoxView",
            "_dom_classes": [],
            "_model_name": "VBoxModel",
            "_view_module": "@jupyter-widgets/controls",
            "_model_module_version": "1.5.0",
            "_view_count": null,
            "_view_module_version": "1.5.0",
            "box_style": "",
            "layout": "IPY_MODEL_b951edd13ad74aa284ae4b50dcb7e0ac",
            "_model_module": "@jupyter-widgets/controls",
            "children": [
              "IPY_MODEL_f76615c2f8a84cad8cf41e2cd8c0d081",
              "IPY_MODEL_16004e8b5b5a4a4daa46c4c5215826f1",
              "IPY_MODEL_f1fe2a9520b44ad983136ff6e7f8fcb6",
              "IPY_MODEL_7e56ecd4401b4e82814568d7005f687e"
            ]
          }
        },
        "b951edd13ad74aa284ae4b50dcb7e0ac": {
          "model_module": "@jupyter-widgets/base",
          "model_name": "LayoutModel",
          "model_module_version": "1.2.0",
          "state": {
            "_view_name": "LayoutView",
            "grid_template_rows": null,
            "right": null,
            "justify_content": null,
            "_view_module": "@jupyter-widgets/base",
            "overflow": null,
            "_model_module_version": "1.2.0",
            "_view_count": null,
            "flex_flow": null,
            "width": null,
            "min_width": null,
            "border": null,
            "align_items": null,
            "bottom": null,
            "_model_module": "@jupyter-widgets/base",
            "top": null,
            "grid_column": null,
            "overflow_y": null,
            "overflow_x": null,
            "grid_auto_flow": null,
            "grid_area": null,
            "grid_template_columns": null,
            "flex": null,
            "_model_name": "LayoutModel",
            "justify_items": null,
            "grid_row": null,
            "max_height": null,
            "align_content": null,
            "visibility": null,
            "align_self": null,
            "height": null,
            "min_height": null,
            "padding": null,
            "grid_auto_rows": null,
            "grid_gap": null,
            "max_width": null,
            "order": null,
            "_view_module_version": "1.2.0",
            "grid_template_areas": null,
            "object_position": null,
            "object_fit": null,
            "grid_auto_columns": null,
            "margin": null,
            "display": null,
            "left": null
          }
        },
        "f76615c2f8a84cad8cf41e2cd8c0d081": {
          "model_module": "@jupyter-widgets/controls",
          "model_name": "LabelModel",
          "model_module_version": "1.5.0",
          "state": {
            "_view_name": "LabelView",
            "style": "IPY_MODEL_1934bb447dea4ba5a244756d2045b2dd",
            "_dom_classes": [],
            "description": "",
            "_model_name": "LabelModel",
            "placeholder": "​",
            "_view_module": "@jupyter-widgets/controls",
            "_model_module_version": "1.5.0",
            "value": "Select your dog!",
            "_view_count": null,
            "_view_module_version": "1.5.0",
            "description_tooltip": null,
            "_model_module": "@jupyter-widgets/controls",
            "layout": "IPY_MODEL_f0f3df99b151402ab40432a7f5cb49f7"
          }
        },
        "16004e8b5b5a4a4daa46c4c5215826f1": {
          "model_module": "@jupyter-widgets/controls",
          "model_name": "FileUploadModel",
          "model_module_version": "1.5.0",
          "state": {
            "_view_name": "FileUploadView",
            "_counter": 1,
            "style": "IPY_MODEL_e06e10771c0b42708dda2dd19d0eba6a",
            "_dom_classes": [],
            "description": "Upload",
            "multiple": false,
            "_model_name": "FileUploadModel",
            "data": [
              null
            ],
            "button_style": "",
            "_view_module": "@jupyter-widgets/controls",
            "_model_module_version": "1.5.0",
            "accept": "",
            "_view_count": null,
            "disabled": false,
            "_view_module_version": "1.5.0",
            "error": "",
            "description_tooltip": null,
            "metadata": [
              {
                "name": "istockphoto-953069774-612x612.jpg",
                "type": "image/jpeg",
                "size": 27033,
                "lastModified": 1641476583000
              }
            ],
            "_model_module": "@jupyter-widgets/controls",
            "layout": "IPY_MODEL_2f96bb6834914758bb6f2ee5e3a2eda4",
            "icon": "upload"
          }
        },
        "f1fe2a9520b44ad983136ff6e7f8fcb6": {
          "model_module": "@jupyter-widgets/output",
          "model_name": "OutputModel",
          "model_module_version": "1.0.0",
          "state": {
            "_view_name": "OutputView",
            "msg_id": "",
            "_dom_classes": [],
            "_model_name": "OutputModel",
            "outputs": [
              {
                "output_type": "display_data",
                "data": {
                  "image/png": "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\n",
                  "text/plain": "<PIL.Image.Image image mode=RGB size=128x85 at 0x7F3DF7C1CB10>"
                },
                "metadata": {}
              }
            ],
            "_view_module": "@jupyter-widgets/output",
            "_model_module_version": "1.0.0",
            "_view_count": null,
            "_view_module_version": "1.0.0",
            "layout": "IPY_MODEL_a7563a860581463c9ae9089cc4951487",
            "_model_module": "@jupyter-widgets/output"
          }
        },
        "7e56ecd4401b4e82814568d7005f687e": {
          "model_module": "@jupyter-widgets/controls",
          "model_name": "LabelModel",
          "model_module_version": "1.5.0",
          "state": {
            "_view_name": "LabelView",
            "style": "IPY_MODEL_f1ddfcdd568e4a789164e391b01f5ef7",
            "_dom_classes": [],
            "description": "",
            "_model_name": "LabelModel",
            "placeholder": "​",
            "_view_module": "@jupyter-widgets/controls",
            "_model_module_version": "1.5.0",
            "value": "Prediction: happy; Probability: 0.9993",
            "_view_count": null,
            "_view_module_version": "1.5.0",
            "description_tooltip": null,
            "_model_module": "@jupyter-widgets/controls",
            "layout": "IPY_MODEL_e02ab6bcfbce441bad4025e18d67b7a8"
          }
        },
        "1934bb447dea4ba5a244756d2045b2dd": {
          "model_module": "@jupyter-widgets/controls",
          "model_name": "DescriptionStyleModel",
          "model_module_version": "1.5.0",
          "state": {
            "_view_name": "StyleView",
            "_model_name": "DescriptionStyleModel",
            "description_width": "",
            "_view_module": "@jupyter-widgets/base",
            "_model_module_version": "1.5.0",
            "_view_count": null,
            "_view_module_version": "1.2.0",
            "_model_module": "@jupyter-widgets/controls"
          }
        },
        "f0f3df99b151402ab40432a7f5cb49f7": {
          "model_module": "@jupyter-widgets/base",
          "model_name": "LayoutModel",
          "model_module_version": "1.2.0",
          "state": {
            "_view_name": "LayoutView",
            "grid_template_rows": null,
            "right": null,
            "justify_content": null,
            "_view_module": "@jupyter-widgets/base",
            "overflow": null,
            "_model_module_version": "1.2.0",
            "_view_count": null,
            "flex_flow": null,
            "width": null,
            "min_width": null,
            "border": null,
            "align_items": null,
            "bottom": null,
            "_model_module": "@jupyter-widgets/base",
            "top": null,
            "grid_column": null,
            "overflow_y": null,
            "overflow_x": null,
            "grid_auto_flow": null,
            "grid_area": null,
            "grid_template_columns": null,
            "flex": null,
            "_model_name": "LayoutModel",
            "justify_items": null,
            "grid_row": null,
            "max_height": null,
            "align_content": null,
            "visibility": null,
            "align_self": null,
            "height": null,
            "min_height": null,
            "padding": null,
            "grid_auto_rows": null,
            "grid_gap": null,
            "max_width": null,
            "order": null,
            "_view_module_version": "1.2.0",
            "grid_template_areas": null,
            "object_position": null,
            "object_fit": null,
            "grid_auto_columns": null,
            "margin": null,
            "display": null,
            "left": null
          }
        },
        "e06e10771c0b42708dda2dd19d0eba6a": {
          "model_module": "@jupyter-widgets/controls",
          "model_name": "ButtonStyleModel",
          "model_module_version": "1.5.0",
          "state": {
            "_view_name": "StyleView",
            "_model_name": "ButtonStyleModel",
            "_view_module": "@jupyter-widgets/base",
            "_model_module_version": "1.5.0",
            "_view_count": null,
            "button_color": null,
            "font_weight": "",
            "_view_module_version": "1.2.0",
            "_model_module": "@jupyter-widgets/controls"
          }
        },
        "2f96bb6834914758bb6f2ee5e3a2eda4": {
          "model_module": "@jupyter-widgets/base",
          "model_name": "LayoutModel",
          "model_module_version": "1.2.0",
          "state": {
            "_view_name": "LayoutView",
            "grid_template_rows": null,
            "right": null,
            "justify_content": null,
            "_view_module": "@jupyter-widgets/base",
            "overflow": null,
            "_model_module_version": "1.2.0",
            "_view_count": null,
            "flex_flow": null,
            "width": null,
            "min_width": null,
            "border": null,
            "align_items": null,
            "bottom": null,
            "_model_module": "@jupyter-widgets/base",
            "top": null,
            "grid_column": null,
            "overflow_y": null,
            "overflow_x": null,
            "grid_auto_flow": null,
            "grid_area": null,
            "grid_template_columns": null,
            "flex": null,
            "_model_name": "LayoutModel",
            "justify_items": null,
            "grid_row": null,
            "max_height": null,
            "align_content": null,
            "visibility": null,
            "align_self": null,
            "height": null,
            "min_height": null,
            "padding": null,
            "grid_auto_rows": null,
            "grid_gap": null,
            "max_width": null,
            "order": null,
            "_view_module_version": "1.2.0",
            "grid_template_areas": null,
            "object_position": null,
            "object_fit": null,
            "grid_auto_columns": null,
            "margin": null,
            "display": null,
            "left": null
          }
        },
        "f1ddfcdd568e4a789164e391b01f5ef7": {
          "model_module": "@jupyter-widgets/controls",
          "model_name": "DescriptionStyleModel",
          "model_module_version": "1.5.0",
          "state": {
            "_view_name": "StyleView",
            "_model_name": "DescriptionStyleModel",
            "description_width": "",
            "_view_module": "@jupyter-widgets/base",
            "_model_module_version": "1.5.0",
            "_view_count": null,
            "_view_module_version": "1.2.0",
            "_model_module": "@jupyter-widgets/controls"
          }
        },
        "e02ab6bcfbce441bad4025e18d67b7a8": {
          "model_module": "@jupyter-widgets/base",
          "model_name": "LayoutModel",
          "model_module_version": "1.2.0",
          "state": {
            "_view_name": "LayoutView",
            "grid_template_rows": null,
            "right": null,
            "justify_content": null,
            "_view_module": "@jupyter-widgets/base",
            "overflow": null,
            "_model_module_version": "1.2.0",
            "_view_count": null,
            "flex_flow": null,
            "width": null,
            "min_width": null,
            "border": null,
            "align_items": null,
            "bottom": null,
            "_model_module": "@jupyter-widgets/base",
            "top": null,
            "grid_column": null,
            "overflow_y": null,
            "overflow_x": null,
            "grid_auto_flow": null,
            "grid_area": null,
            "grid_template_columns": null,
            "flex": null,
            "_model_name": "LayoutModel",
            "justify_items": null,
            "grid_row": null,
            "max_height": null,
            "align_content": null,
            "visibility": null,
            "align_self": null,
            "height": null,
            "min_height": null,
            "padding": null,
            "grid_auto_rows": null,
            "grid_gap": null,
            "max_width": null,
            "order": null,
            "_view_module_version": "1.2.0",
            "grid_template_areas": null,
            "object_position": null,
            "object_fit": null,
            "grid_auto_columns": null,
            "margin": null,
            "display": null,
            "left": null
          }
        },
        "a7563a860581463c9ae9089cc4951487": {
          "model_module": "@jupyter-widgets/base",
          "model_name": "LayoutModel",
          "model_module_version": "1.2.0",
          "state": {
            "_view_name": "LayoutView",
            "grid_template_rows": null,
            "right": null,
            "justify_content": null,
            "_view_module": "@jupyter-widgets/base",
            "overflow": null,
            "_model_module_version": "1.2.0",
            "_view_count": null,
            "flex_flow": null,
            "width": null,
            "min_width": null,
            "border": null,
            "align_items": null,
            "bottom": null,
            "_model_module": "@jupyter-widgets/base",
            "top": null,
            "grid_column": null,
            "overflow_y": null,
            "overflow_x": null,
            "grid_auto_flow": null,
            "grid_area": null,
            "grid_template_columns": null,
            "flex": null,
            "_model_name": "LayoutModel",
            "justify_items": null,
            "grid_row": null,
            "max_height": null,
            "align_content": null,
            "visibility": null,
            "align_self": null,
            "height": null,
            "min_height": null,
            "padding": null,
            "grid_auto_rows": null,
            "grid_gap": null,
            "max_width": null,
            "order": null,
            "_view_module_version": "1.2.0",
            "grid_template_areas": null,
            "object_position": null,
            "object_fit": null,
            "grid_auto_columns": null,
            "margin": null,
            "display": null,
            "left": null
          }
        }
      }
    }
  },
  "cells": [
    {
      "cell_type": "code",
      "source": [
        "#hide\n",
        "!pip install -Uqq fastbook\n",
        "import fastbook\n",
        "fastbook.setup_book()"
      ],
      "metadata": {
        "colab": {
          "base_uri": "https://localhost:8080/"
        },
        "id": "4oUaAWXUqh41",
        "outputId": "e03434b0-988e-418e-d3d5-90c7919b0e29"
      },
      "execution_count": 5,
      "outputs": [
        {
          "output_type": "stream",
          "name": "stdout",
          "text": [
            "\u001b[K     |████████████████████████████████| 720 kB 5.0 MB/s \n",
            "\u001b[K     |████████████████████████████████| 1.2 MB 24.6 MB/s \n",
            "\u001b[K     |████████████████████████████████| 46 kB 2.7 MB/s \n",
            "\u001b[K     |████████████████████████████████| 189 kB 49.3 MB/s \n",
            "\u001b[K     |████████████████████████████████| 56 kB 4.0 MB/s \n",
            "\u001b[K     |████████████████████████████████| 51 kB 287 kB/s \n",
            "\u001b[?25hMounted at /content/gdrive\n"
          ]
        }
      ]
    },
    {
      "cell_type": "code",
      "execution_count": 6,
      "metadata": {
        "id": "7tJdqua1pmBD"
      },
      "outputs": [],
      "source": [
        "from fastbook import *\n",
        "from fastai.vision.widgets import *"
      ]
    },
    {
      "cell_type": "code",
      "source": [
        "path = Path()\n",
        "learn_inf = load_learner(path/'export.pkl', cpu=True)\n",
        "btn_upload = widgets.FileUpload()\n",
        "out_pl = widgets.Output()\n",
        "lbl_pred = widgets.Label()"
      ],
      "metadata": {
        "id": "bGQiWxZFp7EN"
      },
      "execution_count": 8,
      "outputs": []
    },
    {
      "cell_type": "code",
      "source": [
        "def on_data_change(change):\n",
        "    lbl_pred.value = ''\n",
        "    img = PILImage.create(btn_upload.data[-1])\n",
        "    out_pl.clear_output()\n",
        "    with out_pl: display(img.to_thumb(128,128))\n",
        "    pred,pred_idx,probs = learn_inf.predict(img)\n",
        "    lbl_pred.value = f'Prediction: {pred}; Probability: {probs[pred_idx]:.04f}'"
      ],
      "metadata": {
        "id": "-5Lq7aqfquCD"
      },
      "execution_count": 9,
      "outputs": []
    },
    {
      "cell_type": "code",
      "source": [
        "btn_upload.observe(on_data_change, names=['data'])"
      ],
      "metadata": {
        "id": "tGlwqNIvq0ZQ"
      },
      "execution_count": 10,
      "outputs": []
    },
    {
      "cell_type": "code",
      "source": [
        "display(VBox([widgets.Label('Select your dog!'), btn_upload, out_pl, lbl_pred]))"
      ],
      "metadata": {
        "colab": {
          "base_uri": "https://localhost:8080/",
          "height": 198,
          "referenced_widgets": [
            "d0f61456cbc4413d87c8ef6ccadf376e",
            "b951edd13ad74aa284ae4b50dcb7e0ac",
            "f76615c2f8a84cad8cf41e2cd8c0d081",
            "16004e8b5b5a4a4daa46c4c5215826f1",
            "f1fe2a9520b44ad983136ff6e7f8fcb6",
            "7e56ecd4401b4e82814568d7005f687e",
            "1934bb447dea4ba5a244756d2045b2dd",
            "f0f3df99b151402ab40432a7f5cb49f7",
            "e06e10771c0b42708dda2dd19d0eba6a",
            "2f96bb6834914758bb6f2ee5e3a2eda4",
            "f1ddfcdd568e4a789164e391b01f5ef7",
            "e02ab6bcfbce441bad4025e18d67b7a8",
            "a7563a860581463c9ae9089cc4951487"
          ]
        },
        "id": "wun1FoACrBa1",
        "outputId": "7e8fe0c6-e3a8-4e6e-fd4d-e4abc1665c6b"
      },
      "execution_count": 12,
      "outputs": [
        {
          "output_type": "display_data",
          "data": {
            "application/vnd.jupyter.widget-view+json": {
              "model_id": "d0f61456cbc4413d87c8ef6ccadf376e",
              "version_minor": 0,
              "version_major": 2
            },
            "text/plain": [
              "VBox(children=(Label(value='Select your dog!'), FileUpload(value={}, description='Upload'), Output(), Label(va…"
            ]
          },
          "metadata": {}
        },
        {
          "output_type": "display_data",
          "data": {
            "text/html": [
              ""
            ],
            "text/plain": [
              "<IPython.core.display.HTML object>"
            ]
          },
          "metadata": {}
        }
      ]
    }
  ]
}